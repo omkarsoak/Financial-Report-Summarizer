{
 "cells": [
  {
   "cell_type": "markdown",
   "metadata": {},
   "source": [
    "### List of tickers"
   ]
  },
  {
   "cell_type": "code",
   "execution_count": null,
   "metadata": {},
   "outputs": [],
   "source": [
    "tickers = [\"AAPL\", \"MSFT\", \"AMZN\", \"NVDA\", \"GOOGL\", \"TSLA\", \"GOOG\", \"BRK-B\", \"META\", \"UNH\",\n",
    "    \"XOM\", \"LLY\", \"JPM\", \"JNJ\", \"V\", \"PG\", \"MA\", \"AVGO\", \"HD\", \"CVX\", \"MRK\", \"ABBV\",\n",
    "    \"COST\", \"PEP\", \"ADBE\"]"
   ]
  },
  {
   "cell_type": "markdown",
   "metadata": {},
   "source": [
    "### Downloading 10K Filing"
   ]
  },
  {
   "cell_type": "markdown",
   "metadata": {},
   "source": [
    "Get all 10-K filings for ticker after January 1, 2023 \n",
    "Note: after and before strings must be in the form \"YYYY-MM-DD\""
   ]
  },
  {
   "cell_type": "code",
   "execution_count": null,
   "metadata": {},
   "outputs": [],
   "source": [
    "from sec_edgar_downloader import Downloader\n",
    "\n",
    "dl = Downloader(\"MyCompanyName\", \"my.email@domain.com\")\n",
    "\n",
    "for ticker in tickers:\n",
    "    dl.get(\"10-K\", f\"{ticker}\", after=\"2023-01-01\",download_details=\"HTML\" ,limit=1)\n",
    "    print(ticker, \"downloaded\")"
   ]
  },
  {
   "cell_type": "code",
   "execution_count": null,
   "metadata": {},
   "outputs": [],
   "source": [
    "import html2text\n",
    "f1 = open(\"./primary-document.html\",\"r\")\n",
    "html = f1.read()\n",
    "#print(html)\n",
    "text = html2text.html2text(html)\n",
    "#print(text)\n",
    "f2 = open(\"./result.txt\",\"w\",encoding=\"UTF-8\")\n",
    "f2.write(text)"
   ]
  }
 ],
 "metadata": {
  "kernelspec": {
   "display_name": "Python 3",
   "language": "python",
   "name": "python3"
  },
  "language_info": {
   "codemirror_mode": {
    "name": "ipython",
    "version": 3
   },
   "file_extension": ".py",
   "mimetype": "text/x-python",
   "name": "python",
   "nbconvert_exporter": "python",
   "pygments_lexer": "ipython3",
   "version": "3.12.2"
  }
 },
 "nbformat": 4,
 "nbformat_minor": 2
}
