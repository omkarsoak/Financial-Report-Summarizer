{
 "cells": [
  {
   "cell_type": "code",
   "execution_count": null,
   "metadata": {},
   "outputs": [],
   "source": [
    "# SageMaker JumpStart solution : \"Dashboarding SEC Text for Financial NLP\"\n",
    "# SageMaker JumpStart Industry SDK: https://github.com/aws/sagemaker-jumpstart-industry-pack"
   ]
  },
  {
   "cell_type": "code",
   "execution_count": null,
   "metadata": {},
   "outputs": [],
   "source": [
    "%pip -q install sagemaker smjsindustry --upgrade"
   ]
  },
  {
   "cell_type": "code",
   "execution_count": null,
   "metadata": {},
   "outputs": [],
   "source": [
    "import boto3\n",
    "import sagemaker\n",
    "import smjsindustry\n",
    "import pandas as pd\n",
    "import re"
   ]
  },
  {
   "cell_type": "code",
   "execution_count": null,
   "metadata": {},
   "outputs": [],
   "source": [
    "print(sagemaker.__version__)"
   ]
  },
  {
   "cell_type": "code",
   "execution_count": null,
   "metadata": {},
   "outputs": [],
   "source": [
    "session = sagemaker.Session()\n",
    "bucket  = session.default_bucket()\n",
    "role    = sagemaker.get_execution_role()"
   ]
  },
  {
   "cell_type": "code",
   "execution_count": null,
   "metadata": {},
   "outputs": [],
   "source": [
    "from smjsindustry.finance.processor import DataLoader\n",
    "from smjsindustry.finance.processor_config import EDGARDataSetConfig\n",
    "\n",
    "sec_processed_folder = 'julsimon-sec-processed'\n",
    "filename = 'dataset_10k_10q.csv'\n",
    "\n",
    "dataset_config = EDGARDataSetConfig(\n",
    "    tickers_or_ciks=['amzn'],\n",
    "    form_types=['10-K', '10-Q'],\n",
    "    filing_date_start='2019-01-01',\n",
    "    filing_date_end='2020-12-31',\n",
    "    email_as_user_agent='test-user@test.com')\n",
    "    \n",
    "data_loader = DataLoader(\n",
    "    role=role,\n",
    "    sagemaker_session=session,\n",
    "    instance_count=1,\n",
    "    instance_type='ml.c5.2xlarge',\n",
    "    volume_size_in_gb=30)\n",
    "    \n",
    "data_loader.load(\n",
    "    dataset_config,\n",
    "    's3://{}/{}/{}'.format(bucket, sec_processed_folder, 'output'),\n",
    "    filename,\n",
    "    wait=True,\n",
    "    logs=True)"
   ]
  },
  {
   "cell_type": "code",
   "execution_count": null,
   "metadata": {},
   "outputs": [],
   "source": [
    "client = boto3.client('s3')\n",
    "client.download_file(bucket, '{}/{}/{}'.format(sec_processed_folder, 'output', filename), filename)\n",
    "df = pd.read_csv(filename)\n",
    "df"
   ]
  },
  {
   "cell_type": "code",
   "execution_count": null,
   "metadata": {},
   "outputs": [],
   "source": [
    "%run SEC_functions.ipynb"
   ]
  },
  {
   "cell_type": "code",
   "execution_count": null,
   "metadata": {},
   "outputs": [],
   "source": [
    "df_10K =process_filings(df, '10-K')"
   ]
  },
  {
   "cell_type": "code",
   "execution_count": null,
   "metadata": {},
   "outputs": [],
   "source": [
    "df_10K.head()"
   ]
  },
  {
   "cell_type": "code",
   "execution_count": null,
   "metadata": {},
   "outputs": [],
   "source": [
    "df_10Q =process_filings(df, '10-Q')"
   ]
  },
  {
   "cell_type": "code",
   "execution_count": null,
   "metadata": {},
   "outputs": [],
   "source": [
    "df_10Q.head()"
   ]
  },
  {
   "cell_type": "code",
   "execution_count": null,
   "metadata": {},
   "outputs": [],
   "source": [
    "df_10K.to_csv('dataset_10k.csv', index=False, header=True)\n",
    "df_10Q.to_csv('dataset_10q.csv', index=False, header=True)"
   ]
  }
 ],
 "metadata": {
  "kernelspec": {
   "display_name": "Python 3 (Data Science)",
   "language": "python",
   "name": "python3__SAGEMAKER_INTERNAL__arn:aws:sagemaker:us-west-2:236514542706:image/datascience-1.0"
  },
  "language_info": {
   "codemirror_mode": {
    "name": "ipython",
    "version": 3
   },
   "file_extension": ".py",
   "mimetype": "text/x-python",
   "name": "python",
   "nbconvert_exporter": "python",
   "pygments_lexer": "ipython3",
   "version": "3.7.10"
  }
 },
 "nbformat": 4,
 "nbformat_minor": 4
}
