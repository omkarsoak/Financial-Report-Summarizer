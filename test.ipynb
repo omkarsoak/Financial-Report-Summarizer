{
 "cells": [
  {
   "cell_type": "code",
   "execution_count": 44,
   "metadata": {},
   "outputs": [
    {
     "data": {
      "text/plain": [
       "1"
      ]
     },
     "execution_count": 44,
     "metadata": {},
     "output_type": "execute_result"
    }
   ],
   "source": [
    "from sec_edgar_downloader import Downloader\n",
    "\n",
    "dl = Downloader(\"MyCompanyName\", \"my.email@domain.com\")\n",
    "\n",
    "# Get all 8-K filings for Apple after January 1, 2017 and before March 25, 2017\n",
    "# Note: after and before strings must be in the form \"YYYY-MM-DD\"\n",
    "dl.get(\"10-K\", \"TSLA\", after=\"2023-01-01\",download_details=\"HTML\" ,limit=1)"
   ]
  },
  {
   "cell_type": "code",
   "execution_count": 56,
   "metadata": {},
   "outputs": [
    {
     "data": {
      "text/plain": [
       "436482"
      ]
     },
     "execution_count": 56,
     "metadata": {},
     "output_type": "execute_result"
    }
   ],
   "source": [
    "#### GARV HAI KI HAMNE YE KHUDSE KIYA HAI (NO CHATGPT!!!)\n",
    "### kevdha bhari vattay  - Times, 2024\n",
    "### great work bois - Washington Post, 2024\n",
    "### best line of code I have every read. chills. literal chills. - Jacob peralta, Feb 2024\n",
    "import html2text\n",
    "f1 = open(\"./primary-document.html\",\"r\")\n",
    "html = f1.read()\n",
    "#print(html)\n",
    "text = html2text.html2text(html)\n",
    "#print(text)\n",
    "f2 = open(\"./result.txt\",\"w\",encoding=\"UTF-8\")\n",
    "f2.write(text)"
   ]
  },
  {
   "cell_type": "code",
   "execution_count": 29,
   "metadata": {},
   "outputs": [],
   "source": [
    "text = \"\"\"\n",
    "As digital transformation and adoption of AI accelerates and revolutionizes more business workstreams, organizations in every sector across the globe can address challenges that will have a fundamental impact on their success. For enterprises, digital technology empowers employees, optimizes operations, engages customers, and in some cases, changes the very core of products and services. We continue to invest in high performance and sustainable computing to meet the growing demand for fast access to Microsoft services provided by our network of cloud computing infrastructure and datacenters. Our cloud business benefits from three economies of scale: datacenters that deploy computational resources at significantly lower cost per unit than smaller ones; datacenters that coordinate and aggregate diverse customer, geographic, and application demand patterns, improving the utilization of computing, storage, and network resources; and multi-tenancy locations that lower application maintenance labor costs.\n",
    "The Microsoft Cloud provides the best integration across the technology stack while offering openness, improving time to value, reducing costs, and increasing agility. Being a global-scale cloud, Azure uniquely offers hybrid consistency, developer productivity, AI capabilities, and trusted security and compliance. We see more emerging use cases and needs for compute and security at the edge and are accelerating our innovation across the spectrum of intelligent edge devices, from Internet of Things (“IoT”) sensors to gateway devices and edge hardware to build, manage, and secure edge workloads. \n",
    "Our AI platform, Azure AI, is helping organizations transform, bringing intelligence and insights to the hands of their employees and customers to solve their most pressing challenges. Organizations large and small are deploying Azure AI solutions to achieve more at scale, more easily, with the proper enterprise-level and responsible AI protections.\n",
    "We have a long-term partnership with OpenAI, a leading AI research and deployment company. We deploy OpenAI’s models across our consumer and enterprise products. As OpenAI’s exclusive cloud provider, Azure powers all of OpenAI's workloads. We have also increased our investments in the development and deployment of specialized supercomputing systems to accelerate OpenAI’s research.\n",
    "Our hybrid infrastructure offers integrated, end-to-end security, compliance, identity, and management capabilities to support the real-world needs and evolving regulatory requirements of commercial customers and enterprises. Our industry clouds bring together capabilities across the entire Microsoft Cloud, along with industry-specific customizations. Azure Arc simplifies governance and management by delivering a consistent multi-cloud and on-premises management platform.\n",
    "Nuance, a leader in conversational AI and ambient intelligence across industries including healthcare, financial services, retail, and telecommunications, joined Microsoft in 2022. Microsoft and Nuance enable organizations to accelerate their business goals with security-focused, cloud-based solutions infused with AI.\n",
    "We are accelerating our development of mixed reality solutions with new Azure services and devices. Microsoft Mesh enables organizations to create custom, immersive experiences for the workplace to help bring remote and hybrid workers and teams together. \n",
    "\"\"\""
   ]
  },
  {
   "cell_type": "code",
   "execution_count": 30,
   "metadata": {},
   "outputs": [
    {
     "data": {
      "text/plain": [
       "['keep',\n",
       " 'for',\n",
       " 'being',\n",
       " 'hundred',\n",
       " 'rather',\n",
       " 'her',\n",
       " 'which',\n",
       " 'moreover',\n",
       " 'although',\n",
       " 'here',\n",
       " 're',\n",
       " 'wherever',\n",
       " 'someone',\n",
       " 'off',\n",
       " 'across',\n",
       " '’d',\n",
       " 'due',\n",
       " 'along',\n",
       " 'nor',\n",
       " 'amongst',\n",
       " 'would',\n",
       " 'unless',\n",
       " 'already',\n",
       " '’ve',\n",
       " 'upon',\n",
       " 'since',\n",
       " 'again',\n",
       " 'at',\n",
       " 'within',\n",
       " 'side',\n",
       " 'during',\n",
       " 'whether',\n",
       " 'every',\n",
       " 'up',\n",
       " 'serious',\n",
       " 'now',\n",
       " 'four',\n",
       " 'used',\n",
       " 'three',\n",
       " 'myself',\n",
       " \"'ve\",\n",
       " 'itself',\n",
       " 'everyone',\n",
       " '‘m',\n",
       " 'further',\n",
       " \"'re\",\n",
       " 'same',\n",
       " 'anyhow',\n",
       " 'hereupon',\n",
       " 'perhaps',\n",
       " \"'s\",\n",
       " 'thereafter',\n",
       " 'fifty',\n",
       " 'everywhere',\n",
       " 'least',\n",
       " 'hence',\n",
       " 'after',\n",
       " 'nobody',\n",
       " 'whereby',\n",
       " 'so',\n",
       " 'really',\n",
       " 'two',\n",
       " 'beyond',\n",
       " 'back',\n",
       " 'former',\n",
       " 'this',\n",
       " 'top',\n",
       " 'toward',\n",
       " 'it',\n",
       " 'own',\n",
       " 'another',\n",
       " 'but',\n",
       " 'with',\n",
       " 'him',\n",
       " 'less',\n",
       " 'empty',\n",
       " 'much',\n",
       " 'please',\n",
       " 'become',\n",
       " 'bottom',\n",
       " '’ll',\n",
       " 'once',\n",
       " '‘re',\n",
       " 'you',\n",
       " 'in',\n",
       " 'eight',\n",
       " 'elsewhere',\n",
       " 'of',\n",
       " 'has',\n",
       " 'nowhere',\n",
       " 'as',\n",
       " 'before',\n",
       " 'ca',\n",
       " 'all',\n",
       " 'them',\n",
       " 'hers',\n",
       " 'am',\n",
       " 'towards',\n",
       " 'becoming',\n",
       " 'then',\n",
       " 'only',\n",
       " 'twenty',\n",
       " 'mostly',\n",
       " 'have',\n",
       " 'becomes',\n",
       " 'cannot',\n",
       " 'they',\n",
       " 'somewhere',\n",
       " 'whereas',\n",
       " 'wherein',\n",
       " 'show',\n",
       " 'yourselves',\n",
       " 'both',\n",
       " 'together',\n",
       " \"'d\",\n",
       " 'these',\n",
       " 'by',\n",
       " 'sometime',\n",
       " 'us',\n",
       " 'indeed',\n",
       " 'should',\n",
       " 'whither',\n",
       " 'he',\n",
       " 'down',\n",
       " 'had',\n",
       " 'eleven',\n",
       " 'however',\n",
       " 'more',\n",
       " 'not',\n",
       " 'something',\n",
       " 'our',\n",
       " 'anything',\n",
       " 'through',\n",
       " 'thereupon',\n",
       " 'everything',\n",
       " 'why',\n",
       " '‘ll',\n",
       " 'done',\n",
       " '’m',\n",
       " 'thereby',\n",
       " 'out',\n",
       " 'she',\n",
       " 'few',\n",
       " 'his',\n",
       " 'throughout',\n",
       " 'meanwhile',\n",
       " 'alone',\n",
       " 'each',\n",
       " 'can',\n",
       " 'herself',\n",
       " 'themselves',\n",
       " 'hereby',\n",
       " 'get',\n",
       " 'will',\n",
       " 'one',\n",
       " 'though',\n",
       " 'anyway',\n",
       " 'say',\n",
       " 'move',\n",
       " 'no',\n",
       " 'except',\n",
       " 'some',\n",
       " 'whereupon',\n",
       " 'almost',\n",
       " 'below',\n",
       " 'from',\n",
       " 'until',\n",
       " 'therefore',\n",
       " 'enough',\n",
       " 'be',\n",
       " 'nevertheless',\n",
       " 'when',\n",
       " 'ourselves',\n",
       " 'about',\n",
       " 'did',\n",
       " 'very',\n",
       " '‘s',\n",
       " 'yourself',\n",
       " 'to',\n",
       " 'such',\n",
       " 'neither',\n",
       " 'whole',\n",
       " 'an',\n",
       " 'third',\n",
       " 'thru',\n",
       " 'without',\n",
       " 'afterwards',\n",
       " 'whence',\n",
       " 'around',\n",
       " 'was',\n",
       " 'my',\n",
       " 'go',\n",
       " '‘ve',\n",
       " 'its',\n",
       " 'part',\n",
       " 'regarding',\n",
       " '‘d',\n",
       " 'sometimes',\n",
       " 'fifteen',\n",
       " 'anywhere',\n",
       " 'that',\n",
       " 'their',\n",
       " 'full',\n",
       " 'latter',\n",
       " 'formerly',\n",
       " 'anyone',\n",
       " 'per',\n",
       " 'yet',\n",
       " 'well',\n",
       " 'on',\n",
       " 'n‘t',\n",
       " 'first',\n",
       " 'forty',\n",
       " 'himself',\n",
       " 'ours',\n",
       " 'too',\n",
       " 'several',\n",
       " 'are',\n",
       " 'amount',\n",
       " 'there',\n",
       " 'ever',\n",
       " 'how',\n",
       " 'who',\n",
       " 'were',\n",
       " 'front',\n",
       " 'none',\n",
       " 'various',\n",
       " 'do',\n",
       " 'does',\n",
       " 'where',\n",
       " 'most',\n",
       " 'still',\n",
       " 'take',\n",
       " \"n't\",\n",
       " 'among',\n",
       " 'herein',\n",
       " 'latterly',\n",
       " 'might',\n",
       " 'somehow',\n",
       " 'besides',\n",
       " 'must',\n",
       " 'a',\n",
       " 'just',\n",
       " 'namely',\n",
       " 'under',\n",
       " 'sixty',\n",
       " 'either',\n",
       " 'yours',\n",
       " 'what',\n",
       " 'quite',\n",
       " 'we',\n",
       " 'those',\n",
       " 'even',\n",
       " 'whoever',\n",
       " 'next',\n",
       " 'hereafter',\n",
       " 'five',\n",
       " \"'m\",\n",
       " 'whom',\n",
       " 'above',\n",
       " 'nothing',\n",
       " 'than',\n",
       " 'me',\n",
       " 'nine',\n",
       " 'using',\n",
       " 'while',\n",
       " 'therein',\n",
       " 'seemed',\n",
       " 'many',\n",
       " 'last',\n",
       " 'never',\n",
       " 'behind',\n",
       " 'otherwise',\n",
       " 'seeming',\n",
       " 'seems',\n",
       " 'into',\n",
       " 'between',\n",
       " 'is',\n",
       " 'because',\n",
       " '’s',\n",
       " 'beside',\n",
       " 'often',\n",
       " 'others',\n",
       " 'could',\n",
       " 'any',\n",
       " 'name',\n",
       " 'put',\n",
       " 'ten',\n",
       " 'via',\n",
       " 'whereafter',\n",
       " 'seem',\n",
       " 'against',\n",
       " 'the',\n",
       " 'or',\n",
       " 'give',\n",
       " 'thence',\n",
       " 'call',\n",
       " 'i',\n",
       " 'other',\n",
       " 'thus',\n",
       " 'six',\n",
       " \"'ll\",\n",
       " 'may',\n",
       " 'beforehand',\n",
       " 'doing',\n",
       " 'else',\n",
       " 'became',\n",
       " '’re',\n",
       " 'twelve',\n",
       " 'been',\n",
       " 'if',\n",
       " 'whenever',\n",
       " 'your',\n",
       " 'and',\n",
       " 'whose',\n",
       " 'always',\n",
       " 'made',\n",
       " 'n’t',\n",
       " 'onto',\n",
       " 'noone',\n",
       " 'whatever',\n",
       " 'over',\n",
       " 'see',\n",
       " 'make',\n",
       " 'mine',\n",
       " 'also']"
      ]
     },
     "execution_count": 30,
     "metadata": {},
     "output_type": "execute_result"
    }
   ],
   "source": [
    "import spacy\n",
    "from spacy.lang.en.stop_words import STOP_WORDS\n",
    "from string import punctuation\n",
    "stopwords = list(STOP_WORDS)\n",
    "stopwords"
   ]
  },
  {
   "cell_type": "code",
   "execution_count": 31,
   "metadata": {},
   "outputs": [
    {
     "name": "stdout",
     "output_type": "stream",
     "text": [
      "['\\n', 'As', 'digital', 'transformation', 'and', 'adoption', 'of', 'AI', 'accelerates', 'and', 'revolutionizes', 'more', 'business', 'workstreams', ',', 'organizations', 'in', 'every', 'sector', 'across', 'the', 'globe', 'can', 'address', 'challenges', 'that', 'will', 'have', 'a', 'fundamental', 'impact', 'on', 'their', 'success', '.', 'For', 'enterprises', ',', 'digital', 'technology', 'empowers', 'employees', ',', 'optimizes', 'operations', ',', 'engages', 'customers', ',', 'and', 'in', 'some', 'cases', ',', 'changes', 'the', 'very', 'core', 'of', 'products', 'and', 'services', '.', 'We', 'continue', 'to', 'invest', 'in', 'high', 'performance', 'and', 'sustainable', 'computing', 'to', 'meet', 'the', 'growing', 'demand', 'for', 'fast', 'access', 'to', 'Microsoft', 'services', 'provided', 'by', 'our', 'network', 'of', 'cloud', 'computing', 'infrastructure', 'and', 'datacenters', '.', 'Our', 'cloud', 'business', 'benefits', 'from', 'three', 'economies', 'of', 'scale', ':', 'datacenters', 'that', 'deploy', 'computational', 'resources', 'at', 'significantly', 'lower', 'cost', 'per', 'unit', 'than', 'smaller', 'ones', ';', 'datacenters', 'that', 'coordinate', 'and', 'aggregate', 'diverse', 'customer', ',', 'geographic', ',', 'and', 'application', 'demand', 'patterns', ',', 'improving', 'the', 'utilization', 'of', 'computing', ',', 'storage', ',', 'and', 'network', 'resources', ';', 'and', 'multi', '-', 'tenancy', 'locations', 'that', 'lower', 'application', 'maintenance', 'labor', 'costs', '.', '\\n', 'The', 'Microsoft', 'Cloud', 'provides', 'the', 'best', 'integration', 'across', 'the', 'technology', 'stack', 'while', 'offering', 'openness', ',', 'improving', 'time', 'to', 'value', ',', 'reducing', 'costs', ',', 'and', 'increasing', 'agility', '.', 'Being', 'a', 'global', '-', 'scale', 'cloud', ',', 'Azure', 'uniquely', 'offers', 'hybrid', 'consistency', ',', 'developer', 'productivity', ',', 'AI', 'capabilities', ',', 'and', 'trusted', 'security', 'and', 'compliance', '.', 'We', 'see', 'more', 'emerging', 'use', 'cases', 'and', 'needs', 'for', 'compute', 'and', 'security', 'at', 'the', 'edge', 'and', 'are', 'accelerating', 'our', 'innovation', 'across', 'the', 'spectrum', 'of', 'intelligent', 'edge', 'devices', ',', 'from', 'Internet', 'of', 'Things', '(', '“', 'IoT', '”', ')', 'sensors', 'to', 'gateway', 'devices', 'and', 'edge', 'hardware', 'to', 'build', ',', 'manage', ',', 'and', 'secure', 'edge', 'workloads', '.', '\\n', 'Our', 'AI', 'platform', ',', 'Azure', 'AI', ',', 'is', 'helping', 'organizations', 'transform', ',', 'bringing', 'intelligence', 'and', 'insights', 'to', 'the', 'hands', 'of', 'their', 'employees', 'and', 'customers', 'to', 'solve', 'their', 'most', 'pressing', 'challenges', '.', 'Organizations', 'large', 'and', 'small', 'are', 'deploying', 'Azure', 'AI', 'solutions', 'to', 'achieve', 'more', 'at', 'scale', ',', 'more', 'easily', ',', 'with', 'the', 'proper', 'enterprise', '-', 'level', 'and', 'responsible', 'AI', 'protections', '.', '\\n', 'We', 'have', 'a', 'long', '-', 'term', 'partnership', 'with', 'OpenAI', ',', 'a', 'leading', 'AI', 'research', 'and', 'deployment', 'company', '.', 'We', 'deploy', 'OpenAI', '’s', 'models', 'across', 'our', 'consumer', 'and', 'enterprise', 'products', '.', 'As', 'OpenAI', '’s', 'exclusive', 'cloud', 'provider', ',', 'Azure', 'powers', 'all', 'of', 'OpenAI', \"'s\", 'workloads', '.', 'We', 'have', 'also', 'increased', 'our', 'investments', 'in', 'the', 'development', 'and', 'deployment', 'of', 'specialized', 'supercomputing', 'systems', 'to', 'accelerate', 'OpenAI', '’s', 'research', '.', '\\n', 'Our', 'hybrid', 'infrastructure', 'offers', 'integrated', ',', 'end', '-', 'to', '-', 'end', 'security', ',', 'compliance', ',', 'identity', ',', 'and', 'management', 'capabilities', 'to', 'support', 'the', 'real', '-', 'world', 'needs', 'and', 'evolving', 'regulatory', 'requirements', 'of', 'commercial', 'customers', 'and', 'enterprises', '.', 'Our', 'industry', 'clouds', 'bring', 'together', 'capabilities', 'across', 'the', 'entire', 'Microsoft', 'Cloud', ',', 'along', 'with', 'industry', '-', 'specific', 'customizations', '.', 'Azure', 'Arc', 'simplifies', 'governance', 'and', 'management', 'by', 'delivering', 'a', 'consistent', 'multi', '-', 'cloud', 'and', 'on', '-', 'premises', 'management', 'platform', '.', '\\n', 'Nuance', ',', 'a', 'leader', 'in', 'conversational', 'AI', 'and', 'ambient', 'intelligence', 'across', 'industries', 'including', 'healthcare', ',', 'financial', 'services', ',', 'retail', ',', 'and', 'telecommunications', ',', 'joined', 'Microsoft', 'in', '2022', '.', 'Microsoft', 'and', 'Nuance', 'enable', 'organizations', 'to', 'accelerate', 'their', 'business', 'goals', 'with', 'security', '-', 'focused', ',', 'cloud', '-', 'based', 'solutions', 'infused', 'with', 'AI', '.', '\\n', 'We', 'are', 'accelerating', 'our', 'development', 'of', 'mixed', 'reality', 'solutions', 'with', 'new', 'Azure', 'services', 'and', 'devices', '.', 'Microsoft', 'Mesh', 'enables', 'organizations', 'to', 'create', 'custom', ',', 'immersive', 'experiences', 'for', 'the', 'workplace', 'to', 'help', 'bring', 'remote', 'and', 'hybrid', 'workers', 'and', 'teams', 'together', '.', '\\n']\n"
     ]
    }
   ],
   "source": [
    "nlp = spacy.load('en_core_web_sm')\n",
    "doc = nlp(text)\n",
    "tokens = [token.text for token in doc]\n",
    "print(tokens)"
   ]
  },
  {
   "cell_type": "code",
   "execution_count": 32,
   "metadata": {},
   "outputs": [
    {
     "data": {
      "text/plain": [
       "'!\"#$%&\\'()*+,-./:;<=>?@[\\\\]^_`{|}~\\n'"
      ]
     },
     "execution_count": 32,
     "metadata": {},
     "output_type": "execute_result"
    }
   ],
   "source": [
    "punctuation = punctuation + '\\n'\n",
    "punctuation"
   ]
  },
  {
   "cell_type": "code",
   "execution_count": 33,
   "metadata": {},
   "outputs": [
    {
     "name": "stdout",
     "output_type": "stream",
     "text": [
      "{'digital': 2, 'transformation': 1, 'adoption': 1, 'AI': 9, 'accelerates': 1, 'revolutionizes': 1, 'business': 3, 'workstreams': 1, 'organizations': 4, 'sector': 1, 'globe': 1, 'address': 1, 'challenges': 2, 'fundamental': 1, 'impact': 1, 'success': 1, 'enterprises': 2, 'technology': 2, 'empowers': 1, 'employees': 2, 'optimizes': 1, 'operations': 1, 'engages': 1, 'customers': 3, 'cases': 2, 'changes': 1, 'core': 1, 'products': 2, 'services': 4, 'continue': 1, 'invest': 1, 'high': 1, 'performance': 1, 'sustainable': 1, 'computing': 3, 'meet': 1, 'growing': 1, 'demand': 2, 'fast': 1, 'access': 1, 'Microsoft': 6, 'provided': 1, 'network': 2, 'cloud': 6, 'infrastructure': 2, 'datacenters': 3, 'benefits': 1, 'economies': 1, 'scale': 3, 'deploy': 2, 'computational': 1, 'resources': 2, 'significantly': 1, 'lower': 2, 'cost': 1, 'unit': 1, 'smaller': 1, 'ones': 1, 'coordinate': 1, 'aggregate': 1, 'diverse': 1, 'customer': 1, 'geographic': 1, 'application': 2, 'patterns': 1, 'improving': 2, 'utilization': 1, 'storage': 1, 'multi': 2, 'tenancy': 1, 'locations': 1, 'maintenance': 1, 'labor': 1, 'costs': 2, 'Cloud': 2, 'provides': 1, 'best': 1, 'integration': 1, 'stack': 1, 'offering': 1, 'openness': 1, 'time': 1, 'value': 1, 'reducing': 1, 'increasing': 1, 'agility': 1, 'global': 1, 'Azure': 6, 'uniquely': 1, 'offers': 2, 'hybrid': 3, 'consistency': 1, 'developer': 1, 'productivity': 1, 'capabilities': 3, 'trusted': 1, 'security': 4, 'compliance': 2, 'emerging': 1, 'use': 1, 'needs': 2, 'compute': 1, 'edge': 4, 'accelerating': 2, 'innovation': 1, 'spectrum': 1, 'intelligent': 1, 'devices': 3, 'Internet': 1, 'Things': 1, '“': 1, 'IoT': 1, '”': 1, 'sensors': 1, 'gateway': 1, 'hardware': 1, 'build': 1, 'manage': 1, 'secure': 1, 'workloads': 2, 'platform': 2, 'helping': 1, 'transform': 1, 'bringing': 1, 'intelligence': 2, 'insights': 1, 'hands': 1, 'solve': 1, 'pressing': 1, 'Organizations': 1, 'large': 1, 'small': 1, 'deploying': 1, 'solutions': 3, 'achieve': 1, 'easily': 1, 'proper': 1, 'enterprise': 2, 'level': 1, 'responsible': 1, 'protections': 1, 'long': 1, 'term': 1, 'partnership': 1, 'OpenAI': 5, 'leading': 1, 'research': 2, 'deployment': 2, 'company': 1, 'models': 1, 'consumer': 1, 'exclusive': 1, 'provider': 1, 'powers': 1, 'increased': 1, 'investments': 1, 'development': 2, 'specialized': 1, 'supercomputing': 1, 'systems': 1, 'accelerate': 2, 'integrated': 1, 'end': 2, 'identity': 1, 'management': 3, 'support': 1, 'real': 1, 'world': 1, 'evolving': 1, 'regulatory': 1, 'requirements': 1, 'commercial': 1, 'industry': 2, 'clouds': 1, 'bring': 2, 'entire': 1, 'specific': 1, 'customizations': 1, 'Arc': 1, 'simplifies': 1, 'governance': 1, 'delivering': 1, 'consistent': 1, 'premises': 1, 'Nuance': 2, 'leader': 1, 'conversational': 1, 'ambient': 1, 'industries': 1, 'including': 1, 'healthcare': 1, 'financial': 1, 'retail': 1, 'telecommunications': 1, 'joined': 1, '2022': 1, 'enable': 1, 'goals': 1, 'focused': 1, 'based': 1, 'infused': 1, 'mixed': 1, 'reality': 1, 'new': 1, 'Mesh': 1, 'enables': 1, 'create': 1, 'custom': 1, 'immersive': 1, 'experiences': 1, 'workplace': 1, 'help': 1, 'remote': 1, 'workers': 1, 'teams': 1}\n"
     ]
    }
   ],
   "source": [
    "word_frequencies = {}\n",
    "for word in doc:\n",
    "    if word.text.lower() not in stopwords:\n",
    "        if word.text.lower() not in punctuation:\n",
    "            if word.text not in word_frequencies.keys():\n",
    "                word_frequencies[word.text] = 1\n",
    "            else:\n",
    "                word_frequencies[word.text] += 1\n",
    "                \n",
    "print(word_frequencies)"
   ]
  },
  {
   "cell_type": "code",
   "execution_count": 34,
   "metadata": {},
   "outputs": [
    {
     "data": {
      "text/plain": [
       "9"
      ]
     },
     "execution_count": 34,
     "metadata": {},
     "output_type": "execute_result"
    }
   ],
   "source": [
    "max_frequency = max(word_frequencies.values())\n",
    "max_frequency"
   ]
  },
  {
   "cell_type": "code",
   "execution_count": 35,
   "metadata": {},
   "outputs": [
    {
     "name": "stdout",
     "output_type": "stream",
     "text": [
      "{'digital': 0.2222222222222222, 'transformation': 0.1111111111111111, 'adoption': 0.1111111111111111, 'AI': 1.0, 'accelerates': 0.1111111111111111, 'revolutionizes': 0.1111111111111111, 'business': 0.3333333333333333, 'workstreams': 0.1111111111111111, 'organizations': 0.4444444444444444, 'sector': 0.1111111111111111, 'globe': 0.1111111111111111, 'address': 0.1111111111111111, 'challenges': 0.2222222222222222, 'fundamental': 0.1111111111111111, 'impact': 0.1111111111111111, 'success': 0.1111111111111111, 'enterprises': 0.2222222222222222, 'technology': 0.2222222222222222, 'empowers': 0.1111111111111111, 'employees': 0.2222222222222222, 'optimizes': 0.1111111111111111, 'operations': 0.1111111111111111, 'engages': 0.1111111111111111, 'customers': 0.3333333333333333, 'cases': 0.2222222222222222, 'changes': 0.1111111111111111, 'core': 0.1111111111111111, 'products': 0.2222222222222222, 'services': 0.4444444444444444, 'continue': 0.1111111111111111, 'invest': 0.1111111111111111, 'high': 0.1111111111111111, 'performance': 0.1111111111111111, 'sustainable': 0.1111111111111111, 'computing': 0.3333333333333333, 'meet': 0.1111111111111111, 'growing': 0.1111111111111111, 'demand': 0.2222222222222222, 'fast': 0.1111111111111111, 'access': 0.1111111111111111, 'Microsoft': 0.6666666666666666, 'provided': 0.1111111111111111, 'network': 0.2222222222222222, 'cloud': 0.6666666666666666, 'infrastructure': 0.2222222222222222, 'datacenters': 0.3333333333333333, 'benefits': 0.1111111111111111, 'economies': 0.1111111111111111, 'scale': 0.3333333333333333, 'deploy': 0.2222222222222222, 'computational': 0.1111111111111111, 'resources': 0.2222222222222222, 'significantly': 0.1111111111111111, 'lower': 0.2222222222222222, 'cost': 0.1111111111111111, 'unit': 0.1111111111111111, 'smaller': 0.1111111111111111, 'ones': 0.1111111111111111, 'coordinate': 0.1111111111111111, 'aggregate': 0.1111111111111111, 'diverse': 0.1111111111111111, 'customer': 0.1111111111111111, 'geographic': 0.1111111111111111, 'application': 0.2222222222222222, 'patterns': 0.1111111111111111, 'improving': 0.2222222222222222, 'utilization': 0.1111111111111111, 'storage': 0.1111111111111111, 'multi': 0.2222222222222222, 'tenancy': 0.1111111111111111, 'locations': 0.1111111111111111, 'maintenance': 0.1111111111111111, 'labor': 0.1111111111111111, 'costs': 0.2222222222222222, 'Cloud': 0.2222222222222222, 'provides': 0.1111111111111111, 'best': 0.1111111111111111, 'integration': 0.1111111111111111, 'stack': 0.1111111111111111, 'offering': 0.1111111111111111, 'openness': 0.1111111111111111, 'time': 0.1111111111111111, 'value': 0.1111111111111111, 'reducing': 0.1111111111111111, 'increasing': 0.1111111111111111, 'agility': 0.1111111111111111, 'global': 0.1111111111111111, 'Azure': 0.6666666666666666, 'uniquely': 0.1111111111111111, 'offers': 0.2222222222222222, 'hybrid': 0.3333333333333333, 'consistency': 0.1111111111111111, 'developer': 0.1111111111111111, 'productivity': 0.1111111111111111, 'capabilities': 0.3333333333333333, 'trusted': 0.1111111111111111, 'security': 0.4444444444444444, 'compliance': 0.2222222222222222, 'emerging': 0.1111111111111111, 'use': 0.1111111111111111, 'needs': 0.2222222222222222, 'compute': 0.1111111111111111, 'edge': 0.4444444444444444, 'accelerating': 0.2222222222222222, 'innovation': 0.1111111111111111, 'spectrum': 0.1111111111111111, 'intelligent': 0.1111111111111111, 'devices': 0.3333333333333333, 'Internet': 0.1111111111111111, 'Things': 0.1111111111111111, '“': 0.1111111111111111, 'IoT': 0.1111111111111111, '”': 0.1111111111111111, 'sensors': 0.1111111111111111, 'gateway': 0.1111111111111111, 'hardware': 0.1111111111111111, 'build': 0.1111111111111111, 'manage': 0.1111111111111111, 'secure': 0.1111111111111111, 'workloads': 0.2222222222222222, 'platform': 0.2222222222222222, 'helping': 0.1111111111111111, 'transform': 0.1111111111111111, 'bringing': 0.1111111111111111, 'intelligence': 0.2222222222222222, 'insights': 0.1111111111111111, 'hands': 0.1111111111111111, 'solve': 0.1111111111111111, 'pressing': 0.1111111111111111, 'Organizations': 0.1111111111111111, 'large': 0.1111111111111111, 'small': 0.1111111111111111, 'deploying': 0.1111111111111111, 'solutions': 0.3333333333333333, 'achieve': 0.1111111111111111, 'easily': 0.1111111111111111, 'proper': 0.1111111111111111, 'enterprise': 0.2222222222222222, 'level': 0.1111111111111111, 'responsible': 0.1111111111111111, 'protections': 0.1111111111111111, 'long': 0.1111111111111111, 'term': 0.1111111111111111, 'partnership': 0.1111111111111111, 'OpenAI': 0.5555555555555556, 'leading': 0.1111111111111111, 'research': 0.2222222222222222, 'deployment': 0.2222222222222222, 'company': 0.1111111111111111, 'models': 0.1111111111111111, 'consumer': 0.1111111111111111, 'exclusive': 0.1111111111111111, 'provider': 0.1111111111111111, 'powers': 0.1111111111111111, 'increased': 0.1111111111111111, 'investments': 0.1111111111111111, 'development': 0.2222222222222222, 'specialized': 0.1111111111111111, 'supercomputing': 0.1111111111111111, 'systems': 0.1111111111111111, 'accelerate': 0.2222222222222222, 'integrated': 0.1111111111111111, 'end': 0.2222222222222222, 'identity': 0.1111111111111111, 'management': 0.3333333333333333, 'support': 0.1111111111111111, 'real': 0.1111111111111111, 'world': 0.1111111111111111, 'evolving': 0.1111111111111111, 'regulatory': 0.1111111111111111, 'requirements': 0.1111111111111111, 'commercial': 0.1111111111111111, 'industry': 0.2222222222222222, 'clouds': 0.1111111111111111, 'bring': 0.2222222222222222, 'entire': 0.1111111111111111, 'specific': 0.1111111111111111, 'customizations': 0.1111111111111111, 'Arc': 0.1111111111111111, 'simplifies': 0.1111111111111111, 'governance': 0.1111111111111111, 'delivering': 0.1111111111111111, 'consistent': 0.1111111111111111, 'premises': 0.1111111111111111, 'Nuance': 0.2222222222222222, 'leader': 0.1111111111111111, 'conversational': 0.1111111111111111, 'ambient': 0.1111111111111111, 'industries': 0.1111111111111111, 'including': 0.1111111111111111, 'healthcare': 0.1111111111111111, 'financial': 0.1111111111111111, 'retail': 0.1111111111111111, 'telecommunications': 0.1111111111111111, 'joined': 0.1111111111111111, '2022': 0.1111111111111111, 'enable': 0.1111111111111111, 'goals': 0.1111111111111111, 'focused': 0.1111111111111111, 'based': 0.1111111111111111, 'infused': 0.1111111111111111, 'mixed': 0.1111111111111111, 'reality': 0.1111111111111111, 'new': 0.1111111111111111, 'Mesh': 0.1111111111111111, 'enables': 0.1111111111111111, 'create': 0.1111111111111111, 'custom': 0.1111111111111111, 'immersive': 0.1111111111111111, 'experiences': 0.1111111111111111, 'workplace': 0.1111111111111111, 'help': 0.1111111111111111, 'remote': 0.1111111111111111, 'workers': 0.1111111111111111, 'teams': 0.1111111111111111}\n"
     ]
    }
   ],
   "source": [
    "for word in word_frequencies.keys():\n",
    "    word_frequencies[word] = word_frequencies[word]/max_frequency\n",
    "\n",
    "print(word_frequencies)"
   ]
  },
  {
   "cell_type": "code",
   "execution_count": 36,
   "metadata": {},
   "outputs": [
    {
     "name": "stdout",
     "output_type": "stream",
     "text": [
      "[\n",
      "As digital transformation and adoption of AI accelerates and revolutionizes more business workstreams, organizations in every sector across the globe can address challenges that will have a fundamental impact on their success., For enterprises, digital technology empowers employees, optimizes operations, engages customers, and in some cases, changes the very core of products and services., We continue to invest in high performance and sustainable computing to meet the growing demand for fast access to Microsoft services provided by our network of cloud computing infrastructure and datacenters., Our cloud business benefits from three economies of scale: datacenters that deploy computational resources at significantly lower cost per unit than smaller ones; datacenters that coordinate and aggregate diverse customer, geographic, and application demand patterns, improving the utilization of computing, storage, and network resources; and multi-tenancy locations that lower application maintenance labor costs.\n",
      ", The Microsoft Cloud provides the best integration across the technology stack while offering openness, improving time to value, reducing costs, and increasing agility., Being a global-scale cloud, Azure uniquely offers hybrid consistency, developer productivity, AI capabilities, and trusted security and compliance., We see more emerging use cases and needs for compute and security at the edge and are accelerating our innovation across the spectrum of intelligent edge devices, from Internet of Things (“IoT”) sensors to gateway devices and edge hardware to build, manage, and secure edge workloads. \n",
      ", Our AI platform, Azure AI, is helping organizations transform, bringing intelligence and insights to the hands of their employees and customers to solve their most pressing challenges., Organizations large and small are deploying Azure AI solutions to achieve more at scale, more easily, with the proper enterprise-level and responsible AI protections.\n",
      ", We have a long-term partnership with OpenAI, a leading AI research and deployment company., We deploy OpenAI’s models across our consumer and enterprise products., As OpenAI’s exclusive cloud provider, Azure powers all of OpenAI's workloads., We have also increased our investments in the development and deployment of specialized supercomputing systems to accelerate OpenAI’s research.\n",
      ", Our hybrid infrastructure offers integrated, end-to-end security, compliance, identity, and management capabilities to support the real-world needs and evolving regulatory requirements of commercial customers and enterprises., Our industry clouds bring together capabilities across the entire Microsoft Cloud, along with industry-specific customizations., Azure Arc simplifies governance and management by delivering a consistent multi-cloud and on-premises management platform.\n",
      ", Nuance, a leader in conversational AI and ambient intelligence across industries including healthcare, financial services, retail, and telecommunications, joined Microsoft in 2022., Microsoft and Nuance enable organizations to accelerate their business goals with security-focused, cloud-based solutions infused with AI.\n",
      ", We are accelerating our development of mixed reality solutions with new Azure services and devices., Microsoft Mesh enables organizations to create custom, immersive experiences for the workplace to help bring remote and hybrid workers and teams together. \n",
      "]\n"
     ]
    }
   ],
   "source": [
    "sentence_tokens = [sent for sent in doc.sents]\n",
    "print(sentence_tokens)"
   ]
  },
  {
   "cell_type": "code",
   "execution_count": 37,
   "metadata": {},
   "outputs": [
    {
     "data": {
      "text/plain": [
       "{\n",
       " As digital transformation and adoption of AI accelerates and revolutionizes more business workstreams, organizations in every sector across the globe can address challenges that will have a fundamental impact on their success.: 2.4444444444444446,\n",
       " For enterprises, digital technology empowers employees, optimizes operations, engages customers, and in some cases, changes the very core of products and services.: 2.7777777777777777,\n",
       " We continue to invest in high performance and sustainable computing to meet the growing demand for fast access to Microsoft services provided by our network of cloud computing infrastructure and datacenters.: 3.8888888888888893,\n",
       " Our cloud business benefits from three economies of scale: datacenters that deploy computational resources at significantly lower cost per unit than smaller ones; datacenters that coordinate and aggregate diverse customer, geographic, and application demand patterns, improving the utilization of computing, storage, and network resources; and multi-tenancy locations that lower application maintenance labor costs.: 7.2222222222222205,\n",
       " The Microsoft Cloud provides the best integration across the technology stack while offering openness, improving time to value, reducing costs, and increasing agility.: 2.5555555555555562,\n",
       " Being a global-scale cloud, Azure uniquely offers hybrid consistency, developer productivity, AI capabilities, and trusted security and compliance.: 3.2222222222222223,\n",
       " We see more emerging use cases and needs for compute and security at the edge and are accelerating our innovation across the spectrum of intelligent edge devices, from Internet of Things (“IoT”) sensors to gateway devices and edge hardware to build, manage, and secure edge workloads. : 5.333333333333333,\n",
       " Our AI platform, Azure AI, is helping organizations transform, bringing intelligence and insights to the hands of their employees and customers to solve their most pressing challenges.: 2.444444444444445,\n",
       " Organizations large and small are deploying Azure AI solutions to achieve more at scale, more easily, with the proper enterprise-level and responsible AI protections.: 2.3333333333333335,\n",
       " We have a long-term partnership with OpenAI, a leading AI research and deployment company.: 1.0,\n",
       " We deploy OpenAI’s models across our consumer and enterprise products.: 0.8888888888888888,\n",
       " As OpenAI’s exclusive cloud provider, Azure powers all of OpenAI's workloads.: 1.2222222222222223,\n",
       " We have also increased our investments in the development and deployment of specialized supercomputing systems to accelerate OpenAI’s research.: 1.4444444444444446,\n",
       " Our hybrid infrastructure offers integrated, end-to-end security, compliance, identity, and management capabilities to support the real-world needs and evolving regulatory requirements of commercial customers and enterprises.: 4.333333333333334,\n",
       " Our industry clouds bring together capabilities across the entire Microsoft Cloud, along with industry-specific customizations.: 2.111111111111111,\n",
       " Azure Arc simplifies governance and management by delivering a consistent multi-cloud and on-premises management platform.: 2.3333333333333335,\n",
       " Nuance, a leader in conversational AI and ambient intelligence across industries including healthcare, financial services, retail, and telecommunications, joined Microsoft in 2022.: 1.8888888888888893,\n",
       " Microsoft and Nuance enable organizations to accelerate their business goals with security-focused, cloud-based solutions infused with AI.: 3.0000000000000004,\n",
       " We are accelerating our development of mixed reality solutions with new Azure services and devices.: 1.8888888888888888,\n",
       " Microsoft Mesh enables organizations to create custom, immersive experiences for the workplace to help bring remote and hybrid workers and teams together. : 2.111111111111111}"
      ]
     },
     "execution_count": 37,
     "metadata": {},
     "output_type": "execute_result"
    }
   ],
   "source": [
    "sentence_scores = {}\n",
    "for sent in sentence_tokens:\n",
    "    for word in sent:\n",
    "        if word.text.lower() in word_frequencies.keys():\n",
    "            if sent not in sentence_scores.keys():\n",
    "                sentence_scores[sent] = word_frequencies[word.text.lower()]\n",
    "            else:\n",
    "                sentence_scores[sent] += word_frequencies[word.text.lower()]\n",
    "                \n",
    "sentence_scores"
   ]
  },
  {
   "cell_type": "code",
   "execution_count": 38,
   "metadata": {},
   "outputs": [
    {
     "data": {
      "text/plain": [
       "6"
      ]
     },
     "execution_count": 38,
     "metadata": {},
     "output_type": "execute_result"
    }
   ],
   "source": [
    "from heapq import nlargest\n",
    "select_length = int(len(sentence_tokens)*0.3)\n",
    "select_length"
   ]
  },
  {
   "cell_type": "code",
   "execution_count": 39,
   "metadata": {},
   "outputs": [
    {
     "data": {
      "text/plain": [
       "[Our cloud business benefits from three economies of scale: datacenters that deploy computational resources at significantly lower cost per unit than smaller ones; datacenters that coordinate and aggregate diverse customer, geographic, and application demand patterns, improving the utilization of computing, storage, and network resources; and multi-tenancy locations that lower application maintenance labor costs.,\n",
       " We see more emerging use cases and needs for compute and security at the edge and are accelerating our innovation across the spectrum of intelligent edge devices, from Internet of Things (“IoT”) sensors to gateway devices and edge hardware to build, manage, and secure edge workloads. ,\n",
       " Our hybrid infrastructure offers integrated, end-to-end security, compliance, identity, and management capabilities to support the real-world needs and evolving regulatory requirements of commercial customers and enterprises.,\n",
       " We continue to invest in high performance and sustainable computing to meet the growing demand for fast access to Microsoft services provided by our network of cloud computing infrastructure and datacenters.,\n",
       " Being a global-scale cloud, Azure uniquely offers hybrid consistency, developer productivity, AI capabilities, and trusted security and compliance.,\n",
       " Microsoft and Nuance enable organizations to accelerate their business goals with security-focused, cloud-based solutions infused with AI.]"
      ]
     },
     "execution_count": 39,
     "metadata": {},
     "output_type": "execute_result"
    }
   ],
   "source": [
    "summary = nlargest(select_length, sentence_scores, key = sentence_scores.get)\n",
    "summary"
   ]
  },
  {
   "cell_type": "code",
   "execution_count": 40,
   "metadata": {},
   "outputs": [],
   "source": [
    "final_summary = [word.text for word in summary]\n",
    "summary = ' '.join(final_summary)"
   ]
  },
  {
   "cell_type": "code",
   "execution_count": 41,
   "metadata": {},
   "outputs": [
    {
     "name": "stdout",
     "output_type": "stream",
     "text": [
      "\n",
      "As digital transformation and adoption of AI accelerates and revolutionizes more business workstreams, organizations in every sector across the globe can address challenges that will have a fundamental impact on their success. For enterprises, digital technology empowers employees, optimizes operations, engages customers, and in some cases, changes the very core of products and services. We continue to invest in high performance and sustainable computing to meet the growing demand for fast access to Microsoft services provided by our network of cloud computing infrastructure and datacenters. Our cloud business benefits from three economies of scale: datacenters that deploy computational resources at significantly lower cost per unit than smaller ones; datacenters that coordinate and aggregate diverse customer, geographic, and application demand patterns, improving the utilization of computing, storage, and network resources; and multi-tenancy locations that lower application maintenance labor costs.\n",
      "The Microsoft Cloud provides the best integration across the technology stack while offering openness, improving time to value, reducing costs, and increasing agility. Being a global-scale cloud, Azure uniquely offers hybrid consistency, developer productivity, AI capabilities, and trusted security and compliance. We see more emerging use cases and needs for compute and security at the edge and are accelerating our innovation across the spectrum of intelligent edge devices, from Internet of Things (“IoT”) sensors to gateway devices and edge hardware to build, manage, and secure edge workloads. \n",
      "Our AI platform, Azure AI, is helping organizations transform, bringing intelligence and insights to the hands of their employees and customers to solve their most pressing challenges. Organizations large and small are deploying Azure AI solutions to achieve more at scale, more easily, with the proper enterprise-level and responsible AI protections.\n",
      "We have a long-term partnership with OpenAI, a leading AI research and deployment company. We deploy OpenAI’s models across our consumer and enterprise products. As OpenAI’s exclusive cloud provider, Azure powers all of OpenAI's workloads. We have also increased our investments in the development and deployment of specialized supercomputing systems to accelerate OpenAI’s research.\n",
      "Our hybrid infrastructure offers integrated, end-to-end security, compliance, identity, and management capabilities to support the real-world needs and evolving regulatory requirements of commercial customers and enterprises. Our industry clouds bring together capabilities across the entire Microsoft Cloud, along with industry-specific customizations. Azure Arc simplifies governance and management by delivering a consistent multi-cloud and on-premises management platform.\n",
      "Nuance, a leader in conversational AI and ambient intelligence across industries including healthcare, financial services, retail, and telecommunications, joined Microsoft in 2022. Microsoft and Nuance enable organizations to accelerate their business goals with security-focused, cloud-based solutions infused with AI.\n",
      "We are accelerating our development of mixed reality solutions with new Azure services and devices. Microsoft Mesh enables organizations to create custom, immersive experiences for the workplace to help bring remote and hybrid workers and teams together. \n",
      "\n"
     ]
    },
    {
     "data": {
      "text/plain": [
       "3407"
      ]
     },
     "execution_count": 41,
     "metadata": {},
     "output_type": "execute_result"
    }
   ],
   "source": [
    "print(text)\n",
    "f1 = open(\"train.txt\",'w')\n",
    "f1.write(text)"
   ]
  },
  {
   "cell_type": "code",
   "execution_count": 42,
   "metadata": {},
   "outputs": [
    {
     "name": "stdout",
     "output_type": "stream",
     "text": [
      "Our cloud business benefits from three economies of scale: datacenters that deploy computational resources at significantly lower cost per unit than smaller ones; datacenters that coordinate and aggregate diverse customer, geographic, and application demand patterns, improving the utilization of computing, storage, and network resources; and multi-tenancy locations that lower application maintenance labor costs.\n",
      " We see more emerging use cases and needs for compute and security at the edge and are accelerating our innovation across the spectrum of intelligent edge devices, from Internet of Things (“IoT”) sensors to gateway devices and edge hardware to build, manage, and secure edge workloads. \n",
      " Our hybrid infrastructure offers integrated, end-to-end security, compliance, identity, and management capabilities to support the real-world needs and evolving regulatory requirements of commercial customers and enterprises. We continue to invest in high performance and sustainable computing to meet the growing demand for fast access to Microsoft services provided by our network of cloud computing infrastructure and datacenters. Being a global-scale cloud, Azure uniquely offers hybrid consistency, developer productivity, AI capabilities, and trusted security and compliance. Microsoft and Nuance enable organizations to accelerate their business goals with security-focused, cloud-based solutions infused with AI.\n",
      "\n"
     ]
    }
   ],
   "source": [
    "print(summary)\n",
    "try: \n",
    "    f2 = open(\"test.txt\",'w')\n",
    "    f2.write(summary)\n",
    "except:\n",
    "    print(\"Did not print\")"
   ]
  },
  {
   "cell_type": "code",
   "execution_count": null,
   "metadata": {},
   "outputs": [],
   "source": []
  }
 ],
 "metadata": {
  "kernelspec": {
   "display_name": "Python 3",
   "language": "python",
   "name": "python3"
  },
  "language_info": {
   "codemirror_mode": {
    "name": "ipython",
    "version": 3
   },
   "file_extension": ".py",
   "mimetype": "text/x-python",
   "name": "python",
   "nbconvert_exporter": "python",
   "pygments_lexer": "ipython3",
   "version": "3.10.7"
  }
 },
 "nbformat": 4,
 "nbformat_minor": 2
}
