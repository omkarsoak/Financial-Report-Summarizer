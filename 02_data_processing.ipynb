{
 "cells": [
  {
   "cell_type": "code",
   "execution_count": null,
   "metadata": {},
   "outputs": [],
   "source": [
    "%pip -q install -q pandas nltk transformers"
   ]
  },
  {
   "cell_type": "code",
   "execution_count": null,
   "metadata": {},
   "outputs": [],
   "source": [
    "import nltk\n",
    "import pandas as pd\n",
    "from transformers import pipeline"
   ]
  },
  {
   "cell_type": "code",
   "execution_count": null,
   "metadata": {},
   "outputs": [],
   "source": [
    "nltk.download('punkt')"
   ]
  },
  {
   "cell_type": "code",
   "execution_count": null,
   "metadata": {},
   "outputs": [],
   "source": [
    "df10k = pd.read_csv('dataset_10k.csv')\n",
    "df10q = pd.read_csv('dataset_10q.csv')"
   ]
  },
  {
   "cell_type": "code",
   "execution_count": null,
   "metadata": {},
   "outputs": [],
   "source": [
    "print(len(df10k))\n",
    "print(len(df10q))"
   ]
  },
  {
   "cell_type": "code",
   "execution_count": null,
   "metadata": {},
   "outputs": [],
   "source": [
    "summarizer = pipeline('summarization', model='t5-base')\n",
    "\n",
    "classifier_model_name = 'bhadresh-savani/distilbert-base-uncased-emotion'\n",
    "classifier_emotions = ['anger', 'disgust', 'fear', 'joy', 'sadness', 'surprise']\n",
    "\n",
    "#classifier_model_name = 'ProsusA I/finbert'\n",
    "#classifier_emotions = ['positive', 'neutral', 'negative']\n",
    "\n",
    "classifier = pipeline('text-classification', model=classifier_model_name)"
   ]
  },
  {
   "cell_type": "code",
   "execution_count": null,
   "metadata": {},
   "outputs": [],
   "source": [
    "def find_emotional_sentences(text, emotions, threshold):\n",
    "    sentences_by_emotion = {}\n",
    "    for e in emotions:\n",
    "        sentences_by_emotion[e]=[]\n",
    "    sentences = nltk.sent_tokenize(text)\n",
    "    print(f'Document has {len(text)} characters and {len(sentences)} sentences.')\n",
    "    for s in sentences:\n",
    "        prediction = classifier(s)\n",
    "        if (prediction[0]['label']!='neutral' and prediction[0]['score']>threshold):\n",
    "            #print (f'Sentence #{sentences.index(s)}: {prediction} {s}')\n",
    "            sentences_by_emotion[prediction[0]['label']].append(s)\n",
    "    for e in emotions:\n",
    "        print(f'{e}: {len(sentences_by_emotion[e])} sentences')\n",
    "    return sentences_by_emotion"
   ]
  },
  {
   "cell_type": "code",
   "execution_count": null,
   "metadata": {},
   "outputs": [],
   "source": [
    "def summarize_sentences(sentences_by_emotion, min_length, max_length):\n",
    "    for k in sentences_by_emotion.keys():\n",
    "        if (len(sentences_by_emotion[k])!=0):\n",
    "            text = ' '.join(sentences_by_emotion[k])\n",
    "            summary = summarizer(text, min_length=min_length, max_length=max_length)\n",
    "            print(f\"{k.upper()}: {summary[0]['summary_text']}\\n\")"
   ]
  },
  {
   "cell_type": "code",
   "execution_count": null,
   "metadata": {},
   "outputs": [],
   "source": [
    "text = df10q.iloc[1]['Management’s Discussion and Analysis of Financial Condition and Results of Operations']\n",
    "\n",
    "sentences_by_emotion = find_emotional_sentences(text, classifier_emotions, 0.7)"
   ]
  },
  {
   "cell_type": "code",
   "execution_count": null,
   "metadata": {},
   "outputs": [],
   "source": [
    "sentences_by_emotion['anger']"
   ]
  },
  {
   "cell_type": "code",
   "execution_count": null,
   "metadata": {},
   "outputs": [],
   "source": [
    "summarize_sentences(sentences_by_emotion, min_length=30, max_length=60)"
   ]
  },
  {
   "cell_type": "code",
   "execution_count": null,
   "metadata": {},
   "outputs": [],
   "source": []
  }
 ],
 "metadata": {
  "kernelspec": {
   "display_name": "Python 3 (Data Science)",
   "language": "python",
   "name": "python3__SAGEMAKER_INTERNAL__arn:aws:sagemaker:us-west-2:236514542706:image/datascience-1.0"
  },
  "language_info": {
   "codemirror_mode": {
    "name": "ipython",
    "version": 3
   },
   "file_extension": ".py",
   "mimetype": "text/x-python",
   "name": "python",
   "nbconvert_exporter": "python",
   "pygments_lexer": "ipython3",
   "version": "3.7.10"
  }
 },
 "nbformat": 4,
 "nbformat_minor": 5
}
