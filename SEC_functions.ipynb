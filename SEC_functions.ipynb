{
 "cells": [
  {
   "cell_type": "code",
   "execution_count": null,
   "metadata": {},
   "outputs": [],
   "source": [
    "# SageMaker JumpStart solution : \"Dashboarding SEC Text for Financial NLP\""
   ]
  },
  {
   "cell_type": "code",
   "execution_count": null,
   "metadata": {},
   "outputs": [],
   "source": [
    "def extract_items(part_header, part_text, form_type):\n",
    "    \"\"\"Extracts the item header and its corresponding text for every item within the plain text of a \"part\" of a form.\n",
    "    \n",
    "    :type part_header: str\n",
    "    :param part_header: The header of a \"part\" of a form (e.g. Part III)\n",
    "    \n",
    "    :type part_text: str\n",
    "    :param part_text: The plain text of a \"part\" of a form (e.g. Part III). In the case of 10-K and 8-K forms, the \"part\" is the whole form.\n",
    "    \n",
    "    :type form_type: str\n",
    "    :param form_type: The form type (e.g. 10-K, 10-Q, 8-K)\n",
    "\n",
    "    :rtype: Iterator[(str, str, str)]\n",
    "    :returns: An iterator over tuples of the form (part_header, item_header, text) \n",
    "        where \"item_header\" is the item header and \"text\" is the corresponding text\n",
    "        for each item in the \"part\". part_header is included to differentiate \n",
    "        between portions of a filing that have the same item number but are in different parts.\n",
    "    \"\"\"\n",
    "    if form_type == \"10-K\" or form_type == \"10-Q\":\n",
    "        pattern = '(?P<header>(\\n\\n(ITEM|Item) \\d+[A-Z]*.*?)\\n\\n)(?P<text>.*?)(?=(\\n\\n(ITEM|Item) \\d+[A-Z]*.*?)\\n\\n|$)'\n",
    "    elif form_type == \"8-K\":\n",
    "        pattern = '(?P<header>\\n\\n(ITEM|Item) \\d+\\.\\d+\\.*)(?P<text>.*?)(?=((\\n\\n(ITEM|Item) \\d+\\.\\d+.*?)\\n\\n|$))'\n",
    "    return ((part_header, _.group('header').strip(), _.group('text').strip()) for _ in re.finditer(pattern, part_text, re.DOTALL))"
   ]
  },
  {
   "cell_type": "code",
   "execution_count": null,
   "metadata": {},
   "outputs": [],
   "source": [
    "def extract_parts(form_text, form_type):\n",
    "    \"\"\"Extracts every part from form plain text, where a \"part\" is defined\n",
    "    specifically as a portion in the form starting with \"PART (some roman numeral)\".\n",
    "    \n",
    "    :type form_text: str\n",
    "    :param form_text: The form plain text.\n",
    "    \n",
    "    :type form_type: str\n",
    "    :param form_type: The form type (e.g. 10-K, 10-Q, 8-K)\n",
    "    \n",
    "    :rtype: Iterator[(str, str)]\n",
    "    :returns: An iterator over the header and text for each part extracted from the form plain text.\n",
    "        (e.g. for 10-K forms, we iterate through Part I through Part IV)\n",
    "    \"\"\"\n",
    "    pattern = '((^PART|^Part|\\n\\nPART|\\n\\nPart) [IVXLCDM]+).*?(\\n\\n.*?)(?=\\n\\n(PART|Part) [IVXLCDM]+.*?\\n\\n|$)'\n",
    "    return ((_.group(1).strip(), _.group(3)) for _ in re.finditer(pattern, form_text, re.DOTALL))"
   ]
  },
  {
   "cell_type": "code",
   "execution_count": null,
   "metadata": {},
   "outputs": [],
   "source": [
    "def get_form_items(form_text, form_type):\n",
    "    \"\"\"Extracts the item header and its corresponding text for every item within a form's plaintext.\n",
    "    \n",
    "    :type form_text: str\n",
    "    :param form_text: The form plain text.\n",
    "    \n",
    "    :type form_type: str\n",
    "    :param form_type: The form type (e.g. 10-K, 10-Q, 8-K)\n",
    "    \n",
    "    :rtype: Iterator[(str, str)]\n",
    "    :returns: An iterator over tuples of the form (header, text) where \"header\" is the item header and \"text\" is the corresponding text.\n",
    "    \"\"\"\n",
    "    if form_type == \"10-Q\":\n",
    "        for part_header, part_text in extract_parts(form_text, form_type):\n",
    "            items = extract_items(part_header, part_text, form_type)\n",
    "            yield from items\n",
    "    elif form_type == \"8-K\"  or form_type == \"10-K\":\n",
    "        items = extract_items(\"\", form_text, form_type)\n",
    "        yield from items"
   ]
  },
  {
   "cell_type": "markdown",
   "metadata": {},
   "source": [
    "## Code for building a dataframe whose columns are the different \"Item\" sections"
   ]
  },
  {
   "cell_type": "code",
   "execution_count": null,
   "metadata": {},
   "outputs": [],
   "source": [
    "def items_to_df_row(item_iter, columns, form_type):\n",
    "    \"\"\"Takes an iterator over tuples of the form (header, text) that is created from calling extract_items\n",
    "    and generates a row for a dataframe that has a column for each of the item types.\n",
    "    \n",
    "    :type item_iter: Iterator[(str, str, str)]\n",
    "    :param item_iter: An iterator over tuples of the form (part_header, item_header, item_text).\n",
    "    \n",
    "    :type columns: List[str]\n",
    "    :param columns: A list of column names for the dataframe we wish to generate a row for.\n",
    "    \n",
    "    :type form_type: str\n",
    "    :param form_type: The form type. Currently supported types include 10-K, 10-Q, 8-K.\n",
    "    \n",
    "    :rtype: List[str]\n",
    "    :returns: A row for the dataframe.\n",
    "    \"\"\"\n",
    "    mapping = {} # mapping between processed column names and their corresponding row index\n",
    "    for idx, col_name in enumerate(columns):\n",
    "        processed_col_name = col_name.lower()\n",
    "        mapping[processed_col_name] = idx\n",
    "        \n",
    "    returned_row = [\"\" for i in range(len(columns))]\n",
    "    for part_header, item_header, text in item_iter:\n",
    "        processed_header = (part_header.lower() + \" \" + item_header.lower()).strip()\n",
    "        if form_type == \"10-Q\":\n",
    "            processed_header = re.search(\"part [ivxlcdm]+ item \\d+[a-z]*\", processed_header).group(0)\n",
    "        elif form_type == \"10-K\":\n",
    "            processed_header = re.search(\"item \\d+[a-z]*\", processed_header).group(0)\n",
    "        elif form_type == \"8-K\":\n",
    "            if processed_header[-1] == \".\":\n",
    "                processed_header = processed_header[:-1] # Some companies will include a period at the end of the header while others don't        \n",
    "        if processed_header in mapping.keys():\n",
    "            row_index = mapping[processed_header]\n",
    "            returned_row[row_index] = text\n",
    "            \n",
    "    return returned_row"
   ]
  },
  {
   "cell_type": "markdown",
   "metadata": {},
   "source": [
    "## Required hard-coded values for the different Item section header names"
   ]
  },
  {
   "cell_type": "code",
   "execution_count": null,
   "metadata": {},
   "outputs": [],
   "source": [
    "columns_10K = [\"Item 1\", \"Item 1A\", \"Item 1B\", \"Item 2\", \"Item 3\", \"Item 4\",\n",
    "           \"Item 5\", \"Item 6\", \"Item 7\", \"Item 7A\", \"Item 8\", \"Item 9\",\n",
    "           \"Item 9A\", \"Item 9B\", \"Item 10\", \"Item 11\", \"Item 12\", \"Item 13\",\n",
    "           \"Item 14\", \"Item 15\"]"
   ]
  },
  {
   "cell_type": "code",
   "execution_count": null,
   "metadata": {},
   "outputs": [],
   "source": [
    "columns_10Q = [\"Part I Item 1\", \"Part I Item 2\", \"Part I Item 3\", \"Part I Item 4\",\n",
    "               \"Part II Item 1\", \"Part II Item 1A\", \"Part II Item 2\", \"Part II Item 3\",\n",
    "               \"Part II Item 4\", \"Part II Item 5\", \"Part II Item 6\"]"
   ]
  },
  {
   "cell_type": "code",
   "execution_count": null,
   "metadata": {},
   "outputs": [],
   "source": [
    "columns_8K = [\"Item 1.01\", \"Item 1.02\", \"Item 1.03\", \"Item 1.04\",\n",
    "             \"Item 2.01\", \"Item 2.02\", \"Item 2.03\", \"Item 2.04\", \"Item 2.05\", \"Item 2.06\",\n",
    "             \"Item 3.01\", \"Item 3.02\", \"Item 3.03\",\n",
    "             \"Item 4.01\", \"Item 4.02\",\n",
    "             \"Item 5.01\", \"Item 5.02\", \"Item 5.03\", \"Item 5.04\", \"Item 5.05\", \"Item 5.06\", \"Item 5.07\", \"Item 5.08\",\n",
    "             \"Item 6.01\", \"Item 6.02\", \"Item 6.03\", \"Item 6.04\", \"Item 6.05\",\n",
    "             \"Item 7.01\",\n",
    "             \"Item 8.01\",\n",
    "             \"Item 9.01\"]"
   ]
  },
  {
   "cell_type": "code",
   "execution_count": null,
   "metadata": {},
   "outputs": [],
   "source": [
    "header_mappings_10K = {\n",
    "    \"Item 1\": \"Business\",\n",
    "    \"Item 1A\": \"Risk Factors\",\n",
    "    \"Item 1B\": \"Unresolved Staff Comments\",\n",
    "    \"Item 2\": \"Properties\",\n",
    "    \"Item 3\": \"Legal Proceedings\",\n",
    "    \"Item 4\": \"Mine Safety Disclosures\",\n",
    "    \"Item 5\": \"Market for Registrant’s Common Equity, Related Stockholder Matters and Issuer Purchases of Equity Securities\",\n",
    "    \"Item 6\": \"Selected Financial Data\",\n",
    "    \"Item 7\": \"Management’s Discussion and Analysis of Financial Condition and Results of Operations\",\n",
    "    \"Item 7A\": \"Quantitative and Qualitative Disclosures about Market Risk\",\n",
    "    \"Item 8\": \"Financial Statements and Supplementary Data\",\n",
    "    \"Item 9\": \"Changes in and Disagreements with Accountants on Accounting and Financial Disclosure\",\n",
    "    \"Item 9A\": \"Controls and Procedures\",\n",
    "    \"Item 9B\": \"Other Information\",\n",
    "    \"Item 10\": \"Directors, Executive Officers and Corporate Governance\",\n",
    "    \"Item 11\": \"Executive Compensation\",\n",
    "    \"Item 12\": \"Security Ownership of Certain Beneficial Owners and Management and Related Stockholder Matters\",\n",
    "    \"Item 13\": \"Certain Relationships and Related Transactions, and Director Independence\",\n",
    "    \"Item 14\": \"Principal Accountant Fees and Services\",\n",
    "    \"Item 15\": \"Exhibits, Financial Statement Schedules\"\n",
    "}"
   ]
  },
  {
   "cell_type": "code",
   "execution_count": null,
   "metadata": {},
   "outputs": [],
   "source": [
    "header_mappings_10Q = {\n",
    "    \"Part I Item 1\": \"Financial Statements\",\n",
    "    \"Part I Item 2\": \"Management’s Discussion and Analysis of Financial Condition and Results of Operations\",\n",
    "    \"Part I Item 3\": \"Quantitative and Qualitative Disclosures About Market Risk\",\n",
    "    \"Part I Item 4\": \"Controls and Procedures\",\n",
    "    \"Part II Item 1\": \"Legal Proceedings\",\n",
    "    \"Part II Item 1A\": \"Risk Factors\",\n",
    "    \"Part II Item 2\": \"Unregistered Sales of Equity Securities and Use of Proceeds\",\n",
    "    \"Part II Item 3\": \"Defaults Upon Senior Securities\",\n",
    "    \"Part II Item 4\": \"Mine Safety Disclosures\",\n",
    "    \"Part II Item 5\": \"Other Information\",\n",
    "    \"Part II Item 6\": \"Exhibits\"\n",
    "}"
   ]
  },
  {
   "cell_type": "code",
   "execution_count": null,
   "metadata": {},
   "outputs": [],
   "source": [
    "header_mappings_8K = {\n",
    "    \"Item 1.01\": \"Entry into a Material Definitive Agreement\",\n",
    "    \"Item 1.02\": \"Termination of a Material Definitive Agreement\",\n",
    "    \"Item 1.03\": \"Bankruptcy or Receivership\",\n",
    "    \"Item 1.04\": \"Mine Safety - Reporting of Shutdowns and Patterns of Violations\",\n",
    "    \"Item 2.01\": \"Completion of Acquisition or Disposition of Assets\",\n",
    "    \"Item 2.02\": \"Results of Operations and Financial Condition\",\n",
    "    \"Item 2.03\": \"Creation of a Direct Financial Obligation or an Obligation under an Off-Balance Sheet Arrangement of a Registrant\",\n",
    "    \"Item 2.04\": \"Triggering Events That Accelerate or Increase a Direct Financial Obligation or an Obligation under an Off-Balance Sheet Arrangement\",\n",
    "    \"Item 2.05\": \"Costs Associated with Exit or Disposal Activities\",\n",
    "    \"Item 2.06\": \"Material Impairments\",\n",
    "    \"Item 3.01\": \"Notice of Delisting or Failure to Satisfy a Continued Listing Rule or Standard; Transfer of Listing\",\n",
    "    \"Item 3.02\": \"Unregistered Sales of Equity Securities\",\n",
    "    \"Item 3.03\": \"Material Modification to Rights of Security Holders\",\n",
    "    \"Item 4.01\": \"Changes in Registrant's Certifying Accountant\",\n",
    "    \"Item 4.02\": \"Non-Reliance on Previously Issued Financial Statements or a Related Audit Report or Completed Interim Review\",\n",
    "    \"Item 5.01\": \"Changes in Control of Registrant\",\n",
    "    \"Item 5.02\": \"Departure of Directors or Certain Officers; Election of Directors; Appointment of Certain Officers; Compensatory Arrangements of Certain Officers\",\n",
    "    \"Item 5.03\": \"Amendments to Articles of Incorporation or Bylaws; Change in Fiscal Year\",\n",
    "    \"Item 5.04\": \"Temporary Suspension of Trading Under Registrant's Employee Benefit Plans\",\n",
    "    \"Item 5.05\": \"Amendment to Registrant's Code of Ethics, or Waiver of a Provision of the Code of Ethics\",\n",
    "    \"Item 5.06\": \"Change in Shell Company Status\",\n",
    "    \"Item 5.07\": \"Submission of Matters to a Vote of Security Holders\",\n",
    "    \"Item 5.08\": \"Shareholder Director Nominations\",\n",
    "    \"Item 6.01\": \"ABS Informational and Computational Material\",\n",
    "    \"Item 6.02\": \"Change of Servicer or Trustee\",\n",
    "    \"Item 6.03\": \"Change in Credit Enhancement or Other External Support\",\n",
    "    \"Item 6.04\": \"Failure to Make a Required Distribution\",\n",
    "    \"Item 6.05\": \"Securities Act Updating Disclosure\",\n",
    "    \"Item 7.01\": \"Regulation FD Disclosure\",\n",
    "    \"Item 8.01\": \"Other Events\",\n",
    "    \"Item 9.01\": \"Financial Statements and Exhibits\"\n",
    "}"
   ]
  },
  {
   "cell_type": "code",
   "execution_count": null,
   "metadata": {},
   "outputs": [],
   "source": [
    "def process_filings(dataframe, form_type):\n",
    "    if form_type=='10-K':\n",
    "            columns = columns_10K\n",
    "            header_mappings = header_mappings_10K\n",
    "    elif form_type=='10-Q':\n",
    "            columns = columns_10Q\n",
    "            header_mappings = header_mappings_10Q\n",
    "    elif form_type=='8-K':\n",
    "            columns = columns_8K\n",
    "            header_mappings = header_mappings_8K\n",
    "    else:\n",
    "            print('Unsupported filing type')\n",
    "            return None\n",
    "        \n",
    "    df = dataframe[dataframe.form_type == form_type]\n",
    "    items = pd.DataFrame(columns = columns, dtype=object)\n",
    "    for i in df.index:\n",
    "        form_text = df.text[i]\n",
    "        item_iter = get_form_items(form_text, form_type)\n",
    "        items.loc[i] = items_to_df_row(item_iter, columns, form_type)\n",
    "    items.rename(columns=header_mappings, inplace=True)\n",
    "    df = pd.merge(df, items, left_index=True, right_index=True)\n",
    "    return df"
   ]
  }
 ],
 "metadata": {
  "instance_type": "ml.t3.medium",
  "kernelspec": {
   "display_name": "Python 3 (Data Science)",
   "language": "python",
   "name": "HUB_1P_IMAGE"
  },
  "language_info": {
   "codemirror_mode": {
    "name": "ipython",
    "version": 3
   },
   "file_extension": ".py",
   "mimetype": "text/x-python",
   "name": "python",
   "nbconvert_exporter": "python",
   "pygments_lexer": "ipython3",
   "version": "3.7.10"
  }
 },
 "nbformat": 4,
 "nbformat_minor": 4
}
