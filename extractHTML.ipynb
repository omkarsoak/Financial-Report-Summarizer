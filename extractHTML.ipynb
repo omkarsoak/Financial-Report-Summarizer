{
 "cells": [
  {
   "cell_type": "markdown",
   "metadata": {},
   "source": [
    "### Convert HTML to txt"
   ]
  },
  {
   "cell_type": "code",
   "execution_count": 12,
   "metadata": {},
   "outputs": [],
   "source": [
    "import os\n",
    "\n",
    "ticker = \"MSFT\"\n",
    "inputfile = f\"./Dataset_SEC_filings/{ticker}.html\"\n",
    "if not os.path.exists(f\"./Dataset_Converted/\"):\n",
    "    os.mkdir(f\"./Dataset_Converted/\")\n",
    "if not os.path.exists(f\"./Dataset_Converted/{ticker}/\"):\n",
    "    os.mkdir(f\"./Dataset_Converted/{ticker}/\")\n",
    "\n",
    "convertedfile = f\"./Dataset_Converted/{ticker}/converted.txt\""
   ]
  },
  {
   "cell_type": "code",
   "execution_count": 13,
   "metadata": {},
   "outputs": [],
   "source": [
    "import html2text\n",
    "text_maker = html2text.HTML2Text()\n",
    "text_maker.ignore_links = True\n",
    "#text_maker.ignore_tables = True\n",
    "\n",
    "f1 = open(inputfile,\"r\")\n",
    "html = f1.read()\n",
    "#print(html)\n",
    "text = html2text.html2text(html)\n",
    "#print(text)\n",
    "f1.close()\n",
    "\n",
    "f2 = open(convertedfile,\"w\",encoding=\"UTF-8\")\n",
    "f2.write(text)\n",
    "f2.close()"
   ]
  },
  {
   "cell_type": "markdown",
   "metadata": {},
   "source": [
    "### Extract data"
   ]
  },
  {
   "cell_type": "code",
   "execution_count": 27,
   "metadata": {},
   "outputs": [],
   "source": [
    "def extract(convertedfile, to_phrase, from_phrase, resultfile):\n",
    "    # string to search in file\n",
    "    def searchFile(filename, phrase):\n",
    "        with open(filename, 'r') as fp0:\n",
    "            # read all lines in a list\n",
    "            lines = fp0.readlines()\n",
    "            for line in lines:\n",
    "                line_lc = line.lower() \n",
    "                \n",
    "                # check if string present on a current line\n",
    "                if line_lc.find(phrase.lower()) != -1:\n",
    "                    print('Line Number:', lines.index(line))\n",
    "                    print('Line:', line)\n",
    "                    fp0.close()\n",
    "                    return(lines.index(line))\n",
    "\n",
    "                fp0.close()\n",
    "                \n",
    "        return -1\n",
    "                \n",
    "   \n",
    "    #extract first, last indices\n",
    "    first = searchFile(convertedfile, to_phrase)\n",
    "    last = searchFile(convertedfile, from_phrase)\n",
    "    \n",
    "    if(first == -1 or last == -1):\n",
    "        return 0 #failed\n",
    "\n",
    "    mylines = []     \n",
    "    fp1 = open(resultfile,\"w\",encoding=\"UTF-8\")\n",
    "\n",
    "    with open (convertedfile, 'r') as fp: \n",
    "        lines = fp.readlines()[first:last]\n",
    "    \n",
    "    for line in lines:\n",
    "        fp1.write(line)    \n",
    "    fp1.close()    \n",
    "    return 1 #successful\n"
   ]
  },
  {
   "cell_type": "markdown",
   "metadata": {},
   "source": [
    "#### Part I Extraction"
   ]
  },
  {
   "cell_type": "code",
   "execution_count": 28,
   "metadata": {},
   "outputs": [
    {
     "name": "stdout",
     "output_type": "stream",
     "text": [
      "Line Number: 658\n",
      "Line: ITEM 1. BUSINESS\n",
      "\n",
      "Line Number: 3503\n",
      "Line: ITEM 5. MARKET FOR REGISTRANT'S COMMON EQUITY, RELATED STOCKHOLDER MATTERS AND\n",
      "\n"
     ]
    }
   ],
   "source": [
    "if(extract(convertedfile, \"Item 1. Business\", \"Item 5. Market\", f\"./Dataset_Converted/{ticker}/partI.txt\")):\n",
    "    pass\n",
    "else:\n",
    "    if(extract(convertedfile, \"Item 1.Business\", \"Item 5.Market\", f\"./Dataset_Converted/{ticker}/partI.txt\")):\n",
    "        pass\n",
    "    else:\n",
    "        print(\"fail\")"
   ]
  },
  {
   "cell_type": "markdown",
   "metadata": {},
   "source": [
    "#### Item 7A Extraction"
   ]
  },
  {
   "cell_type": "code",
   "execution_count": 29,
   "metadata": {},
   "outputs": [
    {
     "name": "stdout",
     "output_type": "stream",
     "text": [
      "Line Number: 3572\n",
      "Line: ITEM 7. MANAGEMENT'S DISCUSSION AND ANALYSIS OF FINANCIAL CONDITION AND\n",
      "\n",
      "Line Number: 4684\n",
      "Line: ITEM 7A. QUANTITATIVE AND QUALITATIVE DISCLOSURES ABOUT MARKET RISK\n",
      "\n"
     ]
    }
   ],
   "source": [
    "if(extract(convertedfile, \"Item 7. Management\", \"Item 7A. Quantitative\", f\"./Dataset_Converted/{ticker}/item7A.txt\")):\n",
    "    pass\n",
    "else:\n",
    "    if(extract(convertedfile, \"Item 7.Management\", \"Item 7A.Quantitative\", f\"./Dataset_Converted/{ticker}/item7A.txt\")):\n",
    "        pass\n",
    "    else:\n",
    "        print(\"fail\")"
   ]
  },
  {
   "cell_type": "markdown",
   "metadata": {},
   "source": [
    "#### Item 8 Extraction"
   ]
  },
  {
   "cell_type": "code",
   "execution_count": null,
   "metadata": {},
   "outputs": [],
   "source": []
  },
  {
   "cell_type": "markdown",
   "metadata": {},
   "source": [
    "#### Item 9A Extraction"
   ]
  },
  {
   "cell_type": "code",
   "execution_count": 30,
   "metadata": {},
   "outputs": [
    {
     "name": "stdout",
     "output_type": "stream",
     "text": [
      "Line Number: 8205\n",
      "Line: ITEM 9A. CONTROLS AND PROCEDURES\n",
      "\n",
      "Line Number: 8259\n",
      "Line: ITEM 9B. OTHER INFORMATION\n",
      "\n"
     ]
    }
   ],
   "source": [
    "\n",
    "if(extract(convertedfile, \"Item 9A. Controls\", \"Item 9B. Other\", f\"./Dataset_Converted/{ticker}/item9A.txt\")):\n",
    "    pass\n",
    "else:\n",
    "    if(extract(convertedfile, \"Item 9A.Controls\", \"Item 9B.Other\", f\"./Dataset_Converted/{ticker}/item9A.txt\")):\n",
    "        pass\n",
    "    else:\n",
    "        print(\"fail\")\n"
   ]
  },
  {
   "cell_type": "code",
   "execution_count": null,
   "metadata": {},
   "outputs": [],
   "source": []
  }
 ],
 "metadata": {
  "kernelspec": {
   "display_name": "Python 3",
   "language": "python",
   "name": "python3"
  },
  "language_info": {
   "codemirror_mode": {
    "name": "ipython",
    "version": 3
   },
   "file_extension": ".py",
   "mimetype": "text/x-python",
   "name": "python",
   "nbconvert_exporter": "python",
   "pygments_lexer": "ipython3",
   "version": "3.12.2"
  }
 },
 "nbformat": 4,
 "nbformat_minor": 2
}
