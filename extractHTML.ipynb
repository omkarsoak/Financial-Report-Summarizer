{
 "cells": [
  {
   "cell_type": "markdown",
   "metadata": {},
   "source": [
    "### Convert HTML to txt"
   ]
  },
  {
   "cell_type": "code",
   "execution_count": 86,
   "metadata": {},
   "outputs": [],
   "source": [
    "inputfile = \"./primary-document3.html\"\n",
    "convertedfile = \"./converted3.txt\""
   ]
  },
  {
   "cell_type": "code",
   "execution_count": 99,
   "metadata": {},
   "outputs": [],
   "source": [
    "import html2text\n",
    "text_maker = html2text.HTML2Text()\n",
    "text_maker.ignore_links = True\n",
    "text_maker.ignore_tables = True\n",
    "\n",
    "f1 = open(inputfile,\"r\")\n",
    "html = f1.read()\n",
    "#print(html)\n",
    "text = html2text.html2text(html)\n",
    "#print(text)\n",
    "f1.close()\n",
    "\n",
    "f2 = open(convertedfile,\"w\",encoding=\"UTF-8\")\n",
    "f2.write(text)\n",
    "f2.close()"
   ]
  },
  {
   "cell_type": "markdown",
   "metadata": {},
   "source": [
    "### Extract data"
   ]
  },
  {
   "cell_type": "code",
   "execution_count": 101,
   "metadata": {},
   "outputs": [],
   "source": [
    "def extract(convertedfile, to_phrase, from_phrase, resultfile):\n",
    "    # string to search in file\n",
    "    def searchFile(filename, phrase):\n",
    "        with open(filename, 'r') as fp0:\n",
    "            # read all lines in a list\n",
    "            lines = fp0.readlines()\n",
    "            for line in lines:\n",
    "                line_lc = line.lower() \n",
    "\n",
    "                # check if string present on a current line\n",
    "                if line_lc.find(phrase.lower()) != -1:\n",
    "                    print('Line Number:', lines.index(line))\n",
    "                    print('Line:', line)\n",
    "                    return(lines.index(line))\n",
    "            fp0.close()\n",
    "\n",
    "    mylines = []     \n",
    "    fp1 = open(resultfile,\"w\",encoding=\"UTF-8\")\n",
    "\n",
    "    #extract first, last indices\n",
    "    first = searchFile(convertedfile, to_phrase)\n",
    "    last = searchFile(convertedfile, from_phrase)\n",
    "    with open (convertedfile, 'r') as fp: \n",
    "        lines = fp.readlines()[first:last]\n",
    "    \n",
    "    for line in lines:\n",
    "        fp1.write(line)    \n",
    "    fp1.close()    \n"
   ]
  },
  {
   "cell_type": "markdown",
   "metadata": {},
   "source": [
    "#### Part I Extraction"
   ]
  },
  {
   "cell_type": "code",
   "execution_count": 102,
   "metadata": {},
   "outputs": [
    {
     "name": "stdout",
     "output_type": "stream",
     "text": [
      "Line Number: 447\n",
      "Line: Item 1. Business\n",
      "\n",
      "Line Number: 1981\n",
      "Line: Item 5. Market for Registrant's Common Equity, Related Stockholder Matters and\n",
      "\n"
     ]
    }
   ],
   "source": [
    "extract(convertedfile, \"Item 1. Business\", \"Item 5. Market\", \"applePartI.txt\")"
   ]
  },
  {
   "cell_type": "markdown",
   "metadata": {},
   "source": [
    "#### Item 7 Extraction"
   ]
  },
  {
   "cell_type": "code",
   "execution_count": 98,
   "metadata": {},
   "outputs": [
    {
     "name": "stdout",
     "output_type": "stream",
     "text": [
      "Line Number: 2067\n",
      "Line: Item 7. Management's Discussion and Analysis of Financial Condition and\n",
      "\n",
      "Line Number: 2483\n",
      "Line: Item 7A. Quantitative and Qualitative Disclosures About Market Risk\n",
      "\n"
     ]
    }
   ],
   "source": [
    "extract(convertedfile, \"Item 7. Management\", \"Item 7A. Quantitative\", \"appleItem7.txt\")"
   ]
  },
  {
   "cell_type": "markdown",
   "metadata": {},
   "source": [
    "#### Item 8 Extraction"
   ]
  },
  {
   "cell_type": "code",
   "execution_count": null,
   "metadata": {},
   "outputs": [],
   "source": []
  },
  {
   "cell_type": "markdown",
   "metadata": {},
   "source": [
    "#### Item 9A Extraction"
   ]
  },
  {
   "cell_type": "code",
   "execution_count": 97,
   "metadata": {},
   "outputs": [
    {
     "name": "stdout",
     "output_type": "stream",
     "text": [
      "Line Number: 447\n",
      "Line: Item 1. Business\n",
      "\n",
      "Line Number: 1981\n",
      "Line: Item 5. Market for Registrant's Common Equity, Related Stockholder Matters and\n",
      "\n"
     ]
    }
   ],
   "source": [
    "extract(convertedfile, \"Item 1. Business\", \"Item 5. Market\", \"appleItem9A.txt\")"
   ]
  },
  {
   "cell_type": "code",
   "execution_count": null,
   "metadata": {},
   "outputs": [],
   "source": []
  }
 ],
 "metadata": {
  "kernelspec": {
   "display_name": "Python 3",
   "language": "python",
   "name": "python3"
  },
  "language_info": {
   "codemirror_mode": {
    "name": "ipython",
    "version": 3
   },
   "file_extension": ".py",
   "mimetype": "text/x-python",
   "name": "python",
   "nbconvert_exporter": "python",
   "pygments_lexer": "ipython3",
   "version": "3.12.2"
  }
 },
 "nbformat": 4,
 "nbformat_minor": 2
}
